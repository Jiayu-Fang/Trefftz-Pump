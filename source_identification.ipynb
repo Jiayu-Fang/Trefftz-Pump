{
 "cells": [
  {
   "cell_type": "code",
   "execution_count": null,
   "id": "421be20a-6d04-4221-9b14-c98201de847a",
   "metadata": {},
   "outputs": [],
   "source": [
    "#forward calculation for SW-GW interaction with a source recharge from river\n",
    "from scipy.optimize import least_squares\n",
    "import numpy as np\n",
    "import scipy\n",
    "from scipy import special\n",
    "from numpy.polynomial.hermite import hermfit,hermval\n",
    "from numpy.polynomial.polynomial import polyfit \n",
    "import matplotlib.pyplot as plt\n",
    "import math\n",
    "from scipy.signal import savgol_filter\n",
    "from scipy.optimize import differential_evolution\n",
    "from scipy.optimize import minimize\n",
    "\n"
   ]
  }
 ],
 "metadata": {
  "kernelspec": {
   "display_name": "Python 3 (ipykernel)",
   "language": "python",
   "name": "python3"
  },
  "language_info": {
   "codemirror_mode": {
    "name": "ipython",
    "version": 3
   },
   "file_extension": ".py",
   "mimetype": "text/x-python",
   "name": "python",
   "nbconvert_exporter": "python",
   "pygments_lexer": "ipython3",
   "version": "3.10.7"
  }
 },
 "nbformat": 4,
 "nbformat_minor": 5
}
