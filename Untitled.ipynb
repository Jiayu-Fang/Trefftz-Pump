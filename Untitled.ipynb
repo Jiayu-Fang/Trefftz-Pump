{
 "cells": [
  {
   "cell_type": "code",
   "execution_count": 74,
   "id": "73397e62",
   "metadata": {},
   "outputs": [
    {
     "name": "stdout",
     "output_type": "stream",
     "text": [
      "32.71854541239287\n"
     ]
    }
   ],
   "source": [
    "#forward calculation for pumping (2D)\n",
    "from scipy.optimize import least_squares\n",
    "import numpy as np\n",
    "import scipy\n",
    "from scipy import special\n",
    "from numpy.polynomial.hermite import hermfit,hermval\n",
    "from numpy.polynomial.polynomial import polyfit \n",
    "import matplotlib.pyplot as plt\n",
    "import math\n",
    "from scipy.signal import savgol_filter\n",
    "from scipy.optimize import differential_evolution\n",
    "from scipy.optimize import minimize\n",
    "\n",
    "def fun_der(li,lk,r,q,ta,s,t,r0):\n",
    "    t_len=len(t); r_len=len(r[:,0]); ini_len=len(r0)\n",
    "    rcoe=np.zeros((ini_len+t_len*r_len,100*4))\n",
    "    ycoe=np.zeros(ini_len+t_len*r_len)\n",
    "# Initial Condition\n",
    "    for ik in range(ini_len):\n",
    "        x=r0[ik,0]; y=r0[ik,1]; rk=np.sqrt(x**2+y**2)\n",
    "        jk=1\n",
    "        for jk1 in range(1,11):\n",
    "            v1=jk1*1.0*np.pi/li\n",
    "            for jk2 in range(1,11):\n",
    "                v2=jk2*1.0*np.pi/lk\n",
    "                nk=(jk-1)*4\n",
    "                rcoe[ik,nk+0]=np.sin(v1*x)*np.sin(v2*y); rcoe[ik,nk+1]=np.sin(v1*x)*np.cos(v2*y)\n",
    "                rcoe[ik,nk+2]=np.cos(v1*x)*np.sin(v2*y); rcoe[ik,nk+3]=np.cos(v1*x)*np.cos(v2*y)\n",
    "                jk=jk+1\n",
    "        ycoe[ik]=52.0-q/2.0/np.pi*np.log(rk)\n",
    "# Boundary Condition\n",
    "    nk_f=ini_len\n",
    "    for ik in range(t_len):\n",
    "        tk=t[ik]\n",
    "        for kk in range(r_len):\n",
    "            x=r[kk,0]; y=r[kk,1]; rk=np.sqrt(x**2+y**2)\n",
    "            jk=1\n",
    "            for jk1 in range(1,11):\n",
    "                v1=jk1*1.0*np.pi/li\n",
    "                for jk2 in range(1,11):\n",
    "                    v2=jk2*1.0*np.pi/lk\n",
    "                    t_term=np.exp(-(v1*v1+v2*v2)*ta/s*tk)\n",
    "                    nk=(jk-1)*4\n",
    "                    rcoe[nk_f,nk+0]=np.sin(v1*x)*np.sin(v2*y)*t_term; rcoe[nk_f,nk+1]=np.sin(v1*x)*np.cos(v2*y)*t_term\n",
    "                    rcoe[nk_f,nk+2]=np.cos(v1*x)*np.sin(v2*y)*t_term; rcoe[nk_f,nk+3]=np.cos(v1*x)*np.cos(v2*y)*t_term\n",
    "                    jk=jk+1\n",
    "            ycoe[nk_f]=52.0-q/2.0/np.pi*np.log(rk)\n",
    "            nk_f=nk_f+1\n",
    "    ck=np.linalg.lstsq(rcoe,ycoe,rcond=None)[0]\n",
    "    \n",
    "# Calculate the residual\n",
    "    resk1=np.zeros(ini_len+t_len*r_len)\n",
    "# Initial Condition\n",
    "    for ik in range(ini_len):\n",
    "        x=r0[ik,0]; y=r0[ik,1]; rk=np.sqrt(x**2+y**2)\n",
    "        jk=1\n",
    "        for jk1 in range(1,11):\n",
    "            v1=jk1*1.0*np.pi/li\n",
    "            for jk2 in range(1,11):\n",
    "                v2=jk2*1.0*np.pi/lk\n",
    "                nk=(jk-1)*4\n",
    "                resk1[ik]=resk1[ik]+ck[nk+0]*np.sin(v1*x)*np.sin(v2*y)\n",
    "                resk1[ik]=resk1[ik]+ck[nk+1]*np.sin(v1*x)*np.cos(v2*y)\n",
    "                resk1[ik]=resk1[ik]+ck[nk+2]*np.cos(v1*x)*np.sin(v2*y)\n",
    "                resk1[ik]=resk1[ik]+ck[nk+3]*np.cos(v1*x)*np.cos(v2*y)\n",
    "                jk=jk+1\n",
    "        resk1[ik]=resk1[ik]-52.0+q/2.0/np.pi*np.log(rk)\n",
    "# Boundary Condition\n",
    "    nk_f=ini_len\n",
    "    for ik in range(t_len):\n",
    "        tk=t[ik]\n",
    "        for kk in range(r_len):\n",
    "            x=r[kk,0]; y=r[kk,1]; rk=np.sqrt(x**2+y**2)\n",
    "            jk=1\n",
    "            for jk1 in range(1,11):\n",
    "                v1=jk1*1.0*np.pi/li\n",
    "                for jk2 in range(1,11):\n",
    "                    v2=jk2*1.0*np.pi/lk\n",
    "                    t_term=np.exp(-(v1*v1+v2*v2)*ta/s*tk)\n",
    "                    nk=(jk-1)*4\n",
    "                    resk1[nk_f]=resk1[nk_f]+ck[nk+0]*np.sin(v1*x)*np.sin(v2*y)*t_term\n",
    "                    resk1[nk_f]=resk1[nk_f]+ck[nk+1]*np.sin(v1*x)*np.cos(v2*y)*t_term\n",
    "                    resk1[nk_f]=resk1[nk_f]+ck[nk+2]*np.cos(v1*x)*np.sin(v2*y)*t_term\n",
    "                    resk1[nk_f]=resk1[nk_f]+ck[nk+3]*np.cos(v1*x)*np.cos(v2*y)*t_term\n",
    "                    jk=jk+1\n",
    "            resk1[nk_f]=resk1[nk_f]-52.0+q/2.0/np.pi*np.log(rk)\n",
    "            nk_f=nk_f+1\n",
    "    print (sum(resk1*resk1))\n",
    "    return ck\n",
    "r0=np.zeros((10000,2))\n",
    "nk=0\n",
    "x_num=1000\n",
    "rkk=np.zeros(1000)\n",
    "a=0.1; b=1000.0\n",
    "rkk[0]=0.1\n",
    "for ik in range(1,x_num):\n",
    "    rkk[ik]=ik*1.0\n",
    "#    rkk[ik]=0.5*(a+b)+0.5*(a-b)*np.cos((2.0*(ik+1.0)-1.0)/2.0/(x_num)*np.pi)\n",
    "for ik in range(1000):\n",
    "    for jk in range(10):\n",
    "        theta=2.0*np.pi/10.0*jk\n",
    "        r0[nk,0]=rkk[ik]*np.cos(theta); r0[nk,1]=rkk[ik]*np.sin(theta)\n",
    "        nk=nk+1\n",
    "r=np.zeros((30,2))\n",
    "for ik in range(30):\n",
    "    rkk1=1000.0; theta=2.0*np.pi/30.0*ik\n",
    "    r[ik,0]=rkk1*np.cos(theta); r[ik,1]=rkk1*np.sin(theta)\n",
    "t=np.zeros(100)\n",
    "for ik in range(100):\n",
    "    t[ik]=(ik+1)*0.1\n",
    "li=10000.0; lk=10000.0\n",
    "ck=fun_der(li,lk,r,1.0,1.0,0.01,t,r0)"
   ]
  },
  {
   "cell_type": "code",
   "execution_count": 80,
   "id": "7bdeb3a6",
   "metadata": {},
   "outputs": [
    {
     "data": {
      "text/plain": [
       "[<matplotlib.lines.Line2D at 0x236a2e7a070>]"
      ]
     },
     "execution_count": 80,
     "metadata": {},
     "output_type": "execute_result"
    },
    {
     "data": {
      "image/png": "[encoded data removed]",
      "text/plain": [
       "<Figure size 432x288 with 1 Axes>"
      ]
     },
     "metadata": {
      "needs_background": "light"
     },
     "output_type": "display_data"
    }
   ],
   "source": [
    "import numpy as np\n",
    "t=np.zeros(100)\n",
    "for ik in range(100):\n",
    "    t[ik]=(ik+1)*0.1\n",
    "s=np.zeros(100)\n",
    "for ik in range(100):\n",
    "    u=5.0*5.0*0.01/4.0/1.0/t[ik]\n",
    "    w=-0.5772-np.log(u)\n",
    "    for jk in range(1,100):\n",
    "        w=w-((-1.0)**(jk))*(u**jk)/(jk*1.0)/np.math.factorial(jk)\n",
    "    s[ik]=1.0/4.0/np.pi/1.0*w\n",
    "plt.plot(t,s,'k-')\n",
    "s1=np.zeros(100)\n",
    "for ik in range(100):\n",
    "    x=0.0; y=5.0\n",
    "    jk=1\n",
    "    for jk1 in range(1,11):\n",
    "        v1=jk1*1.0*np.pi/li\n",
    "        for jk2 in range(1,11):\n",
    "            v2=jk2*1.0*np.pi/lk\n",
    "            t_term=np.exp(-(v1*v1+v2*v2)*1.0/0.01*t[ik])\n",
    "            nk=(jk-1)*4\n",
    "            s1[ik]=s1[ik]+ck[nk+0]*np.sin(v1*x)*np.sin(v2*y)*t_term\n",
    "            s1[ik]=s1[ik]+ck[nk+1]*np.sin(v1*x)*np.cos(v2*y)*t_term\n",
    "            s1[ik]=s1[ik]+ck[nk+2]*np.cos(v1*x)*np.sin(v2*y)*t_term\n",
    "            s1[ik]=s1[ik]+ck[nk+3]*np.cos(v1*x)*np.cos(v2*y)*t_term\n",
    "            jk=jk+1\n",
    "plt.plot(t,ss-s1,'r--')"
   ]
  },
  {
   "cell_type": "code",
   "execution_count": 75,
   "id": "04b70a2c",
   "metadata": {},
   "outputs": [
    {
     "name": "stdout",
     "output_type": "stream",
     "text": [
      "51.42162994481623\n",
      "51.507813742384315\n",
      "-2.4492935982947064e-16\n"
     ]
    }
   ],
   "source": [
    "x=3.0; y=4.0\n",
    "ss=0.0\n",
    "jk=1\n",
    "for jk1 in range(1,11):\n",
    "    v1=jk1*1.0*np.pi/li\n",
    "    for jk2 in range(1,11):\n",
    "        v2=jk2*1.0*np.pi/lk\n",
    "        t_term=np.exp(-(v1*v1+v2*v2)*1.0/0.01*0.0)\n",
    "        nk=(jk-1)*4\n",
    "        ss=ss+ck[nk+0]*np.sin(v1*x)*np.sin(v2*y)*t_term\n",
    "        ss=ss+ck[nk+1]*np.sin(v1*x)*np.cos(v2*y)*t_term\n",
    "        ss=ss+ck[nk+2]*np.cos(v1*x)*np.sin(v2*y)*t_term\n",
    "        ss=ss+ck[nk+3]*np.cos(v1*x)*np.cos(v2*y)*t_term\n",
    "        jk=jk+1\n",
    "print(ss)\n",
    "print(s1[0])\n",
    "print(np.sin(2.0*np.pi))"
   ]
  },
  {
   "cell_type": "code",
   "execution_count": 76,
   "id": "282fbc31",
   "metadata": {},
   "outputs": [
    {
     "data": {
      "text/plain": [
       "[<matplotlib.lines.Line2D at 0x236a2b37fd0>]"
      ]
     },
     "execution_count": 76,
     "metadata": {},
     "output_type": "execute_result"
    },
    {
     "data": {
      "image/png": "[encoded data removed]",
      "text/plain": [
       "<Figure size 432x288 with 1 Axes>"
      ]
     },
     "metadata": {
      "needs_background": "light"
     },
     "output_type": "display_data"
    }
   ],
   "source": [
    "plt.plot(ck)"
   ]
  },
  {
   "cell_type": "code",
   "execution_count": 103,
   "id": "6ba2dc5f",
   "metadata": {},
   "outputs": [
    {
     "name": "stdout",
     "output_type": "stream",
     "text": [
      "15.775355791640767\n"
     ]
    }
   ],
   "source": [
    "#forward calculation for pumping (2D)\n",
    "from scipy.optimize import least_squares\n",
    "import numpy as np\n",
    "import scipy\n",
    "from scipy import special\n",
    "from numpy.polynomial.hermite import hermfit,hermval\n",
    "from numpy.polynomial.polynomial import polyfit \n",
    "import matplotlib.pyplot as plt\n",
    "import math\n",
    "from scipy.signal import savgol_filter\n",
    "from scipy.optimize import differential_evolution\n",
    "from scipy.optimize import minimize\n",
    "\n",
    "def fun_der(li,lk,r,q,ta,s,t,r0):\n",
    "    t_len=len(t); r_len=len(r[:,0]); ini_len=len(r0)\n",
    "    rcoe=np.zeros((ini_len+t_len*r_len,1000*4))\n",
    "    ycoe=np.zeros(ini_len+t_len*r_len)\n",
    "# Initial Condition\n",
    "    for ik in range(ini_len):\n",
    "        x=r0[ik,0]; y=r0[ik,1]; rk=np.sqrt(x**2+y**2)\n",
    "        for jk in range(1,1001):\n",
    "            v1=jk*1.0*np.pi/li\n",
    "            v2=jk*1.0*np.pi/lk\n",
    "            nk=(jk-1)*4\n",
    "            rcoe[ik,nk+0]=np.sin(v1*x)*np.sin(v2*y); rcoe[ik,nk+1]=np.sin(v1*x)*np.cos(v2*y)\n",
    "            rcoe[ik,nk+2]=np.cos(v1*x)*np.sin(v2*y); rcoe[ik,nk+3]=np.cos(v1*x)*np.cos(v2*y)\n",
    "        ycoe[ik]=52.0-q/2.0/np.pi*np.log(rk)\n",
    "# Boundary Condition\n",
    "    nk_f=ini_len\n",
    "    for ik in range(t_len):\n",
    "        tk=t[ik]\n",
    "        for kk in range(r_len):\n",
    "            x=r[kk,0]; y=r[kk,1]; rk=np.sqrt(x**2+y**2)\n",
    "            for jk in range(1,1001):\n",
    "                v1=jk*1.0*np.pi/li\n",
    "                v2=jk*1.0*np.pi/lk\n",
    "                t_term=np.exp(-(v1*v1+v2*v2)*ta/s*tk)\n",
    "                nk=(jk-1)*4\n",
    "                rcoe[nk_f,nk+0]=np.sin(v1*x)*np.sin(v2*y)*t_term; rcoe[nk_f,nk+1]=np.sin(v1*x)*np.cos(v2*y)*t_term\n",
    "                rcoe[nk_f,nk+2]=np.cos(v1*x)*np.sin(v2*y)*t_term; rcoe[nk_f,nk+3]=np.cos(v1*x)*np.cos(v2*y)*t_term\n",
    "            ycoe[nk_f]=52.0-q/2.0/np.pi*np.log(rk)\n",
    "            nk_f=nk_f+1\n",
    "    ck=np.linalg.lstsq(rcoe,ycoe,rcond=None)[0]\n",
    "    \n",
    "# Calculate the residual\n",
    "    resk1=np.zeros(ini_len+t_len*r_len)\n",
    "# Initial Condition\n",
    "    for ik in range(ini_len):\n",
    "        x=r0[ik,0]; y=r0[ik,1]; rk=np.sqrt(x**2+y**2)\n",
    "        for jk in range(1,1001):\n",
    "            v1=jk*1.0*np.pi/li\n",
    "            v2=jk*1.0*np.pi/lk\n",
    "            nk=(jk-1)*4\n",
    "            resk1[ik]=resk1[ik]+ck[nk+0]*np.sin(v1*x)*np.sin(v2*y)\n",
    "            resk1[ik]=resk1[ik]+ck[nk+1]*np.sin(v1*x)*np.cos(v2*y)\n",
    "            resk1[ik]=resk1[ik]+ck[nk+2]*np.cos(v1*x)*np.sin(v2*y)\n",
    "            resk1[ik]=resk1[ik]+ck[nk+3]*np.cos(v1*x)*np.cos(v2*y)\n",
    "        resk1[ik]=resk1[ik]-52.0+q/2.0/np.pi*np.log(rk)\n",
    "# Boundary Condition\n",
    "    nk_f=ini_len\n",
    "    for ik in range(t_len):\n",
    "        tk=t[ik]\n",
    "        for kk in range(r_len):\n",
    "            x=r[kk,0]; y=r[kk,1]; rk=np.sqrt(x**2+y**2)\n",
    "            for jk in range(1,1001):\n",
    "                v1=jk*1.0*np.pi/li\n",
    "                v2=jk*1.0*np.pi/lk\n",
    "                t_term=np.exp(-(v1*v1+v2*v2)*ta/s*tk)\n",
    "                nk=(jk-1)*4\n",
    "                resk1[nk_f]=resk1[nk_f]+ck[nk+0]*np.sin(v1*x)*np.sin(v2*y)*t_term\n",
    "                resk1[nk_f]=resk1[nk_f]+ck[nk+1]*np.sin(v1*x)*np.cos(v2*y)*t_term\n",
    "                resk1[nk_f]=resk1[nk_f]+ck[nk+2]*np.cos(v1*x)*np.sin(v2*y)*t_term\n",
    "                resk1[nk_f]=resk1[nk_f]+ck[nk+3]*np.cos(v1*x)*np.cos(v2*y)*t_term\n",
    "            resk1[nk_f]=resk1[nk_f]-52.0+q/2.0/np.pi*np.log(rk)\n",
    "            nk_f=nk_f+1\n",
    "    print (sum(resk1*resk1))\n",
    "    return ck\n",
    "r0=np.zeros((10000,2))\n",
    "nk=0\n",
    "x_num=1000\n",
    "rkk=np.zeros(1000)\n",
    "a=0.1; b=1000.0\n",
    "rkk[0]=0.1\n",
    "for ik in range(1,x_num):\n",
    "    rkk[ik]=ik*1.0\n",
    "#    rkk[ik]=0.5*(a+b)+0.5*(a-b)*np.cos((2.0*(ik+1.0)-1.0)/2.0/(x_num)*np.pi)\n",
    "for ik in range(1000):\n",
    "    for jk in range(10):\n",
    "        theta=2.0*np.pi/10.0*jk\n",
    "        r0[nk,0]=rkk[ik]*np.cos(theta); r0[nk,1]=rkk[ik]*np.sin(theta)\n",
    "        nk=nk+1\n",
    "r=np.zeros((30,2))\n",
    "for ik in range(30):\n",
    "    rkk1=1000.0; theta=2.0*np.pi/30.0*ik\n",
    "    r[ik,0]=rkk1*np.cos(theta); r[ik,1]=rkk1*np.sin(theta)\n",
    "t=np.zeros(100)\n",
    "for ik in range(100):\n",
    "    t[ik]=(ik+1)*0.1\n",
    "li=8000.0; lk=8000.0\n",
    "ck=fun_der(li,lk,r,1.0,1.0,0.01,t,r0)\n",
    "\n"
   ]
  },
  {
   "cell_type": "code",
   "execution_count": 104,
   "id": "d48dd0bd",
   "metadata": {},
   "outputs": [
    {
     "data": {
      "text/plain": [
       "[<matplotlib.lines.Line2D at 0x23699a484f0>]"
      ]
     },
     "execution_count": 104,
     "metadata": {},
     "output_type": "execute_result"
    },
    {
     "data": {
      "image/png": "[encoded data removed]",
      "text/plain": [
       "<Figure size 432x288 with 1 Axes>"
      ]
     },
     "metadata": {
      "needs_background": "light"
     },
     "output_type": "display_data"
    }
   ],
   "source": [
    "t=np.zeros(100)\n",
    "for ik in range(100):\n",
    "    t[ik]=(ik+1)*0.1\n",
    "s=np.zeros(100)\n",
    "for ik in range(100):\n",
    "    u=5.0*5.0*0.01/4.0/1.0/t[ik]\n",
    "    w=-0.5772-np.log(u)\n",
    "    for jk in range(1,100):\n",
    "        w=w-((-1.0)**(jk))*(u**jk)/(jk*1.0)/np.math.factorial(jk)\n",
    "    s[ik]=1.0/4.0/np.pi/1.0*w\n",
    "plt.plot(t,s,'k-')\n",
    "s1=np.zeros(100)\n",
    "for ik in range(100):\n",
    "    x=3.0; y=4.0\n",
    "    for jk in range(1,1001):\n",
    "        v1=jk*1.0*np.pi/li\n",
    "        v2=jk*1.0*np.pi/lk\n",
    "        t_term=np.exp(-(v1*v1+v2*v2)*1.0/0.01*t[ik])\n",
    "        nk=(jk-1)*4\n",
    "        s1[ik]=s1[ik]+ck[nk+0]*np.sin(v1*x)*np.sin(v2*y)*t_term\n",
    "        s1[ik]=s1[ik]+ck[nk+1]*np.sin(v1*x)*np.cos(v2*y)*t_term\n",
    "        s1[ik]=s1[ik]+ck[nk+2]*np.cos(v1*x)*np.sin(v2*y)*t_term\n",
    "        s1[ik]=s1[ik]+ck[nk+3]*np.cos(v1*x)*np.cos(v2*y)*t_term\n",
    "    s1[ik]=s1[ik]+1.0/2.0/np.pi/1.0*np.log(5.0)\n",
    "            \n",
    "plt.plot(t,52.0-s1,'r--')"
   ]
  },
  {
   "cell_type": "code",
   "execution_count": 102,
   "id": "f6f2688e",
   "metadata": {},
   "outputs": [
    {
     "name": "stdout",
     "output_type": "stream",
     "text": [
      "51.992991586451225\n"
     ]
    }
   ],
   "source": [
    "print(s1[0])"
   ]
  },
  {
   "cell_type": "code",
   "execution_count": 227,
   "id": "479d03d3",
   "metadata": {},
   "outputs": [
    {
     "name": "stdout",
     "output_type": "stream",
     "text": [
      "2.7365150423047087e-19\n"
     ]
    }
   ],
   "source": [
    "#forward calculation for pumping (2D)\n",
    "from scipy.optimize import least_squares\n",
    "import numpy as np\n",
    "import scipy\n",
    "from scipy import special\n",
    "from numpy.polynomial.hermite import hermfit,hermval\n",
    "from numpy.polynomial.polynomial import polyfit \n",
    "import matplotlib.pyplot as plt\n",
    "import math\n",
    "from scipy.signal import savgol_filter\n",
    "from scipy.optimize import differential_evolution\n",
    "from scipy.optimize import minimize\n",
    "\n",
    "def fun_der(lk,r,q,ta,s,t,r0):\n",
    "    t_len=len(t); r_len=len(r); ini_len=len(r0)\n",
    "    rcoe=np.zeros((ini_len+t_len*r_len,11*2))\n",
    "    ycoe=np.zeros(ini_len+t_len*r_len)\n",
    "# Initial Condition\n",
    "    for ik in range(ini_len):\n",
    "        rk=r0[ik]\n",
    "        for jk in range(1,12):\n",
    "            vk=jk*1.0*np.pi/lk\n",
    "            nk=(jk-1)*2\n",
    "            rcoe[ik,nk+0]=scipy.special.jv(0,rk*vk)\n",
    "            rcoe[ik,nk+1]=scipy.special.yv(0,rk*vk)\n",
    "        ycoe[ik]=52.0-q/2.0/np.pi*np.log(rk)\n",
    "# Boundary Condition\n",
    "    nk_f=ini_len\n",
    "    for ik in range(t_len):\n",
    "        tk=t[ik]\n",
    "        for kk in range(r_len):\n",
    "            rk=r[kk]\n",
    "            for jk in range(1,12):\n",
    "                vk=jk*1.0*np.pi/lk\n",
    "                nk=(jk-1)*2\n",
    "                t_term=np.exp(-vk*vk*ta/s*tk)\n",
    "                rcoe[nk_f,nk+0]=t_term*scipy.special.jv(0,rk*vk)\n",
    "                rcoe[nk_f,nk+1]=t_term*scipy.special.yv(0,rk*vk)\n",
    "            ycoe[nk_f]=52.0-q/2.0/np.pi*np.log(rk)\n",
    "            nk_f=nk_f+1\n",
    "    ck=np.linalg.lstsq(rcoe,ycoe,rcond=None)[0]\n",
    "    \n",
    "# Calculate the residual\n",
    "    resk1=np.zeros(ini_len+t_len*r_len)\n",
    "# Initial Condition\n",
    "    for ik in range(ini_len):\n",
    "        rk=r0[ik]\n",
    "        for jk in range(1,12):\n",
    "            vk=jk*1.0*np.pi/lk\n",
    "            nk=(jk-1)*2\n",
    "            resk1[ik]=resk1[ik]+ck[nk+0]*scipy.special.jv(0,rk*vk)\n",
    "            resk1[ik]=resk1[ik]+ck[nk+1]*scipy.special.yv(0,rk*vk)\n",
    "        resk1[ik]=resk1[ik]-52.0+q/2.0/np.pi*np.log(rk)\n",
    "# Boundary Condition\n",
    "    nk_f=ini_len\n",
    "    for ik in range(t_len):\n",
    "        tk=t[ik]\n",
    "        for kk in range(r_len):\n",
    "            rk=r[kk]\n",
    "            for jk in range(1,12):\n",
    "                vk=jk*1.0*np.pi/lk\n",
    "                nk=(jk-1)*2\n",
    "                t_term=np.exp(-vk*vk*ta/s*tk)\n",
    "                resk1[nk_f]=resk1[nk_f]+ck[nk+0]*t_term*scipy.special.jv(0,rk*vk)\n",
    "                resk1[nk_f]=resk1[nk_f]+ck[nk+1]*t_term*scipy.special.yv(0,rk*vk)\n",
    "            resk1[nk_f]=resk1[nk_f]-52.0+q/2.0/np.pi*np.log(rk)\n",
    "            nk_f=nk_f+1\n",
    "    print (sum(resk1*resk1))\n",
    "    return ck,rcoe,ycoe\n",
    "r0=np.zeros(1000)\n",
    "r0[0]=0.1\n",
    "for ik in range(1,1000):\n",
    "    r0[ik]=ik*1.0\n",
    "r=np.zeros(2)\n",
    "r[0]=1000.0; r[1]=1000.0\n",
    "t=np.zeros(100)\n",
    "for ik in range(100):\n",
    "    t[ik]=(ik+1)*0.1\n",
    "lk=10000.0\n",
    "[ck,rcoe,ycoe]=fun_der(lk,r,1.0,1.0,0.01,t,r0)"
   ]
  },
  {
   "cell_type": "code",
   "execution_count": 252,
   "id": "b17d9119",
   "metadata": {},
   "outputs": [
    {
     "name": "stdout",
     "output_type": "stream",
     "text": [
      "0.0\n"
     ]
    }
   ],
   "source": [
    "t=np.zeros(100)\n",
    "for ik in range(100):\n",
    "    t[ik]=(ik+1)*0.1\n",
    "s=np.zeros(100)\n",
    "for ik in range(100):\n",
    "    u=5.0*5.0*0.01/4.0/1.0/t[ik]\n",
    "    w=-0.5772-np.log(u)\n",
    "    for jk in range(1,100):\n",
    "        w=w-((-1.0)**(jk))*(u**jk)/(jk*1.0)/np.math.factorial(jk)\n",
    "    s[ik]=1.0/4.0/np.pi/1.0*w\n",
    "#plt.plot(t,s,'k-')\n",
    "s1=np.zeros(100)\n",
    "ta=1.0; ss=0.01\n",
    "for ik in range(100):\n",
    "    rk=5.0; tk=t[ik]\n",
    "    for jk in range(1,12):\n",
    "        vk=jk*1.0*np.pi/lk\n",
    "        nk=(jk-1)*2\n",
    "        t_term=np.exp(-vk*vk*ta/ss*tk)\n",
    "    #    s1[ik]=s1[ik]+ck[nk+0]*t_term*scipy.special.jv(0,rk*vk)\n",
    "    #    s1[ik]=s1[ik]+ck[nk+1]*t_term*scipy.special.yv(0,rk*vk)\n",
    "    s1[ik]=s1[ik] #+1.0/2.0/np.pi/1.0*np.log(5.0)\n",
    "\n"
   ]
  },
  {
   "cell_type": "code",
   "execution_count": 8,
   "id": "c5895b3c",
   "metadata": {
    "tags": []
   },
   "outputs": [
    {
     "name": "stdout",
     "output_type": "stream",
     "text": [
      "0.29187668873739664\n"
     ]
    }
   ],
   "source": [
    "#forward calculation for pumping (2D)\n",
    "from scipy.optimize import least_squares\n",
    "import numpy as np\n",
    "import scipy\n",
    "from scipy import special\n",
    "from numpy.polynomial.hermite import hermfit,hermval\n",
    "from numpy.polynomial.polynomial import polyfit \n",
    "import matplotlib.pyplot as plt\n",
    "import math\n",
    "from scipy.signal import savgol_filter\n",
    "from scipy.optimize import differential_evolution\n",
    "from scipy.optimize import minimize\n",
    "\n",
    "def fun_der(lk,r,q,ta,s,t,r0):\n",
    "    t_len=len(t); r_len=len(r); ini_len=len(r0)\n",
    "    rcoe=np.zeros((ini_len+t_len*r_len,11))\n",
    "    ycoe=np.zeros(ini_len+t_len*r_len)\n",
    "# Initial Condition\n",
    "    for ik in range(ini_len):\n",
    "        rk=r0[ik]+10.0\n",
    "        for jk in range(1,12):\n",
    "            vk=jk*1.0*np.pi/lk\n",
    "            nk=(jk-1)*1\n",
    "            rcoe[ik,nk+0]=scipy.special.yv(0,rk*vk)\n",
    "        ycoe[ik]=52.0-q/2.0/np.pi*np.log(rk-10.0)\n",
    "# Boundary Condition\n",
    "    nk_f=ini_len\n",
    "    for ik in range(t_len):\n",
    "        tk=t[ik]\n",
    "        for kk in range(r_len):\n",
    "            rk=r[kk]+10.0\n",
    "            for jk in range(1,12):\n",
    "                vk=jk*1.0*np.pi/lk\n",
    "                nk=(jk-1)*1\n",
    "                t_term=np.exp(-vk*vk*ta/s*tk)\n",
    "                rcoe[nk_f,nk+0]=t_term*scipy.special.yv(0,rk*vk)\n",
    "            ycoe[nk_f]=52.0-q/2.0/np.pi*np.log(rk-10.0)\n",
    "            nk_f=nk_f+1\n",
    "    ck=np.linalg.lstsq(rcoe,ycoe,rcond=None)[0]\n",
    "    \n",
    "# Calculate the residual\n",
    "    resk1=np.zeros(ini_len+t_len*r_len)\n",
    "# Initial Condition\n",
    "    for ik in range(ini_len):\n",
    "        rk=r0[ik]+10.0\n",
    "        for jk in range(1,12):\n",
    "            vk=jk*1.0*np.pi/lk\n",
    "            nk=(jk-1)*1\n",
    "            resk1[ik]=resk1[ik]+ck[nk+0]*scipy.special.yv(0,rk*vk)\n",
    "        resk1[ik]=resk1[ik]-52.0+q/2.0/np.pi*np.log(rk-10.0)\n",
    "# Boundary Condition\n",
    "    nk_f=ini_len\n",
    "    for ik in range(t_len):\n",
    "        tk=t[ik]\n",
    "        for kk in range(r_len):\n",
    "            rk=r[kk]+10.0\n",
    "            for jk in range(1,12):\n",
    "                vk=jk*1.0*np.pi/lk\n",
    "                nk=(jk-1)*1\n",
    "                t_term=np.exp(-vk*vk*ta/s*tk)\n",
    "                resk1[nk_f]=resk1[nk_f]+ck[nk+0]*t_term*scipy.special.yv(0,rk*vk)\n",
    "            resk1[nk_f]=resk1[nk_f]-52.0+q/2.0/np.pi*np.log(rk-10.0)\n",
    "            nk_f=nk_f+1\n",
    "    print (sum(resk1*resk1))\n",
    "    return ck,rcoe,ycoe\n",
    "r0=np.zeros(1000)\n",
    "r0[0]=0.1\n",
    "for ik in range(1,1000):\n",
    "    r0[ik]=ik*1.0\n",
    "r=np.zeros(2)\n",
    "r[0]=1000.0; r[1]=1000.0\n",
    "t=np.zeros(100)\n",
    "for ik in range(100):\n",
    "    t[ik]=(ik+1)*0.1\n",
    "lk=3000.0\n",
    "[ck,rcoe,ycoe]=fun_der(lk,r,1.0,1.0,0.01,t,r0)"
   ]
  },
  {
   "cell_type": "code",
   "execution_count": 9,
   "id": "a4b297ba",
   "metadata": {
    "tags": []
   },
   "outputs": [
    {
     "data": {
      "text/plain": [
       "[<matplotlib.lines.Line2D at 0x7f0c9aca84f0>]"
      ]
     },
     "execution_count": 9,
     "metadata": {},
     "output_type": "execute_result"
    },
    {
     "data": {
      "image/png": "[encoded data removed]",
      "text/plain": [
       "<Figure size 640x480 with 1 Axes>"
      ]
     },
     "metadata": {},
     "output_type": "display_data"
    }
   ],
   "source": [
    "t=np.zeros(100)\n",
    "for ik in range(100):\n",
    "    t[ik]=(ik+1)*0.1\n",
    "s=np.zeros(100)\n",
    "for ik in range(100):\n",
    "    u=5.0*5.0*0.01/4.0/1.0/t[ik]\n",
    "    w=-0.5772-np.log(u)\n",
    "    for jk in range(1,100):\n",
    "        w=w-((-1.0)**(jk))*(u**jk)/(jk*1.0)/np.math.factorial(jk)\n",
    "    s[ik]=1.0/4.0/np.pi/1.0*w\n",
    "plt.plot(t,s,'k-')\n",
    "s1=np.zeros(100)\n",
    "ta=1.0; ss=0.01\n",
    "for ik in range(100):\n",
    "    rk=5.0+10.0; tk=t[ik]\n",
    "    for jk in range(1,12):\n",
    "        vk=jk*1.0*np.pi/lk\n",
    "        nk=(jk-1)*1\n",
    "        t_term=np.exp(-vk*vk*ta/ss*tk)\n",
    "        s1[ik]=s1[ik]+ck[nk+0]*t_term*scipy.special.yv(0,rk*vk)\n",
    "    s1[ik]=s1[ik]+1.0/2.0/np.pi/1.0*np.log(5.0)\n",
    "            \n",
    "plt.plot(t,52.0-s1,'r--')"
   ]
  },
  {
   "cell_type": "code",
   "execution_count": 1,
   "id": "8aeb56c7",
   "metadata": {
    "tags": []
   },
   "outputs": [
    {
     "name": "stdout",
     "output_type": "stream",
     "text": [
      "0.2801073694118391\n"
     ]
    }
   ],
   "source": [
    "#forward calculation for pumping (2D)\n",
    "from scipy.optimize import least_squares\n",
    "import numpy as np\n",
    "import scipy\n",
    "from scipy import special\n",
    "from numpy.polynomial.hermite import hermfit,hermval\n",
    "from numpy.polynomial.polynomial import polyfit \n",
    "import matplotlib.pyplot as plt\n",
    "import math\n",
    "from scipy.signal import savgol_filter\n",
    "from scipy.optimize import differential_evolution\n",
    "from scipy.optimize import minimize\n",
    "\n",
    "def fun_der1(lk1,lk2,r,q,ta,s,t,r0):\n",
    "    t_len=len(t); r_len=len(r); ini_len=len(r0)\n",
    "    rcoe=np.zeros((ini_len+2+t_len*(r_len+2),60*4))\n",
    "    ycoe=np.zeros(ini_len+2+t_len*(r_len+2))\n",
    "# Initial Condition\n",
    "    for ik in range(ini_len):\n",
    "        rk=r0[ik]\n",
    "        for jk in range(1,61):\n",
    "            if (rk<100.0):\n",
    "                vk=jk*1.0*np.pi/lk1\n",
    "                nk=jk-1\n",
    "                rk1=rk\n",
    "            else:\n",
    "                vk=jk*1.0*np.pi/lk2\n",
    "                nk=jk-1+60\n",
    "                rk1=rk-100.0\n",
    "            rcoe[ik,nk+0]=scipy.special.jv(0,rk1*vk)\n",
    "            rcoe[ik,nk+1]=scipy.special.yv(0,rk1*vk)\n",
    "        ycoe[ik]=52.0-q/2.0/np.pi*np.log(rk)\n",
    "# For the interface in the initial condition\n",
    "    nk_f=ini_len\n",
    "    rk=100.0\n",
    "    for jk in range(1,61):\n",
    "        vk=jk*1.0*np.pi/lk1\n",
    "        nk=jk-1\n",
    "        rcoe[nk_f,nk+0]=scipy.special.jv(0,rk*vk)\n",
    "        rcoe[nk_f,nk+1]=scipy.special.yv(0,rk*vk)\n",
    "        \n",
    "        vk=jk*1.0*np.pi/lk2\n",
    "        nk=jk-1+60\n",
    "        rk1=rk-100.0\n",
    "        rcoe[nk_f,nk+0]=-scipy.special.jv(0,rk1*vk)\n",
    "        rcoe[nk_f,nk+1]=-scipy.special.yv(0,rk1*vk)\n",
    "    ycoe[nk_f]=0.0\n",
    "    nk_f=nk_f+1    \n",
    "    \n",
    "    for jk in range(1,61):\n",
    "        vk=jk*1.0*np.pi/lk1\n",
    "        nk=jk-1\n",
    "        rcoe[nk_f,nk+0]=vk*scipy.special.jvp(0,rk*vk)\n",
    "        rcoe[nk_f,nk+1]=vk*scipy.special.yvp(0,rk*vk)\n",
    "        \n",
    "        vk=jk*1.0*np.pi/lk2\n",
    "        nk=jk-1+60\n",
    "        rk1=rk-100.0\n",
    "        rcoe[nk_f,nk+0]=-vk*scipy.special.jvp(0,rk1*vk)\n",
    "        rcoe[nk_f,nk+1]=-vk*scipy.special.yvp(0,rk1*vk)\n",
    "    ycoe[nk_f]=0.0\n",
    "    nk_f=nk_f+1\n",
    "    \n",
    "    for ik in range(t_len):\n",
    "        tk=t[ik]\n",
    "# Boundary Condition\n",
    "        for kk in range(r_len):\n",
    "            rk1=r[kk]-100.0\n",
    "            for jk in range(1,61):\n",
    "                vk=jk*1.0*np.pi/lk2\n",
    "                nk=jk-1+60\n",
    "                t_term=np.exp(-vk*vk*ta/s*tk)\n",
    "                rcoe[nk_f,nk+0]=t_term*scipy.special.jv(0,rk1*vk)\n",
    "                rcoe[nk_f,nk+1]=t_term*scipy.special.yv(0,rk1*vk)\n",
    "            ycoe[nk_f]=52.0-q/2.0/np.pi*np.log(r[kk])\n",
    "            nk_f=nk_f+1\n",
    "# For interface\n",
    "        rk=100.0\n",
    "        for jk in range(1,61):\n",
    "            vk=jk*1.0*np.pi/lk1\n",
    "            nk=jk-1\n",
    "            t_term=np.exp(-vk*vk*ta/s*tk)\n",
    "            rcoe[nk_f,nk]=t_term*scipy.special.jv(0,rk*vk)\n",
    "            rcoe[nk_f,nk]=t_term*scipy.special.yv(0,rk*vk)\n",
    "            \n",
    "            vk=jk*1.0*np.pi/lk2\n",
    "            nk=jk-1+60\n",
    "            rk1=rk-100.0\n",
    "            t_term=np.exp(-vk*vk*ta/s*tk)\n",
    "            rcoe[nk_f,nk+0]=-t_term*scipy.special.jv(0,rk1*vk)\n",
    "            rcoe[nk_f,nk+1]=-t_term*scipy.special.yv(0,rk1*vk)\n",
    "        ycoe[nk_f]=0.0\n",
    "        nk_f=nk_f+1\n",
    "        \n",
    "        for jk in range(1,61):\n",
    "            vk=jk*1.0*np.pi/lk1\n",
    "            nk=jk-1\n",
    "            t_term=np.exp(-vk*vk*ta/s*tk)\n",
    "            rcoe[nk_f,nk+0]=t_term*vk*scipy.special.jvp(0,rk*vk)\n",
    "            rcoe[nk_f,nk+1]=t_term*vk*scipy.special.yvp(0,rk*vk)\n",
    "            \n",
    "            vk=jk*1.0*np.pi/lk2\n",
    "            nk=jk-1+60\n",
    "            rk1=rk-100.0\n",
    "            t_term=np.exp(-vk*vk*ta/s*tk)\n",
    "            rcoe[nk_f,nk+0]=-t_term*vk*scipy.special.jvp(0,rk1*vk)\n",
    "            rcoe[nk_f,nk+1]=-t_term*vk*scipy.special.yvp(0,rk1*vk)\n",
    "        ycoe[nk_f]=0.0\n",
    "        nk_f=nk_f+1\n",
    "            \n",
    "    ck=np.linalg.lstsq(rcoe,ycoe,rcond=None)[0]\n",
    "    \n",
    "# Calculate the residual\n",
    "    resk1=np.zeros(ini_len+2+t_len*(r_len+2))\n",
    "# Initial Condition\n",
    "    for ik in range(ini_len):\n",
    "        rk=r0[ik]\n",
    "        for jk in range(1,61):\n",
    "            if (rk<100.0):\n",
    "                vk=jk*1.0*np.pi/lk1\n",
    "                nk=jk-1\n",
    "                rk1=rk\n",
    "            else:\n",
    "                vk=jk*1.0*np.pi/lk2\n",
    "                nk=jk-1+60\n",
    "                rk1=rk-100.0\n",
    "            resk1[ik]=resk1[ik]+ck[nk+0]*scipy.special.jv(0,rk1*vk)\n",
    "            resk1[ik]=resk1[ik]+ck[nk+1]*scipy.special.yv(0,rk1*vk)\n",
    "        resk1[ik]=resk1[ik]-52.0+q/2.0/np.pi*np.log(r0[ik])\n",
    "# For the interface in the initial condition\n",
    "    nk_f=ini_len\n",
    "    rk=100.0\n",
    "    for jk in range(1,61):\n",
    "        vk=jk*1.0*np.pi/lk1\n",
    "        nk=jk-1\n",
    "        resk1[nk_f]=resk1[nk_f]+ck[nk]*scipy.special.jv(0,rk*vk)\n",
    "        \n",
    "        vk=jk*1.0*np.pi/lk2\n",
    "        nk=jk-1+60\n",
    "        rk1=rk-100.0\n",
    "        resk1[nk_f]=resk1[nk_f]-ck[nk]*scipy.special.jv(0,rk1*vk)\n",
    "    nk_f=nk_f+1\n",
    "    \n",
    "    for jk in range(1,61):\n",
    "        vk=jk*1.0*np.pi/lk1\n",
    "        nk=jk-1\n",
    "        resk1[nk_f]=resk1[nk_f]+ck[nk]*vk*scipy.special.jvp(0,rk*vk)\n",
    "        \n",
    "        vk=jk*1.0*np.pi/lk2\n",
    "        nk=jk-1+60\n",
    "        rk1=rk-100.0\n",
    "        resk1[nk_f]=resk1[nk_f]-ck[nk]*vk*scipy.special.jvp(0,rk1*vk)\n",
    "    nk_f=nk_f+1\n",
    "    \n",
    "    for ik in range(t_len):\n",
    "        tk=t[ik]\n",
    "# Boundary Condition\n",
    "        for kk in range(r_len):\n",
    "            rk1=r[kk]-100.0\n",
    "            for jk in range(1,61):\n",
    "                vk=jk*1.0*np.pi/lk2\n",
    "                nk=jk-1+60\n",
    "                t_term=np.exp(-vk*vk*ta/s*tk)\n",
    "                resk1[nk_f]=resk1[nk_f]+ck[nk]*t_term*scipy.special.jv(0,rk1*vk)\n",
    "            resk1[nk_f]=resk1[nk_f]-52.0+q/2.0/np.pi*np.log(r[kk])\n",
    "            nk_f=nk_f+1\n",
    "# For interface\n",
    "        rk=100.0\n",
    "        for jk in range(1,61):\n",
    "            vk=jk*1.0*np.pi/lk1\n",
    "            nk=jk-1\n",
    "            t_term=np.exp(-vk*vk*ta/s*tk)\n",
    "            resk1[nk_f]=resk1[nk_f]+ck[nk]*t_term*scipy.special.jv(0,rk*vk)\n",
    "            \n",
    "            vk=jk*1.0*np.pi/lk2\n",
    "            nk=jk-1+60\n",
    "            rk1=rk-100.0\n",
    "            t_term=np.exp(-vk*vk*ta/s*tk)\n",
    "            resk1[nk_f]=resk1[nk_f]-ck[nk]*t_term*scipy.special.jv(0,rk1*vk)\n",
    "        nk_f=nk_f+1\n",
    "        \n",
    "        for jk in range(1,61):\n",
    "            vk=jk*1.0*np.pi/lk1\n",
    "            nk=jk-1\n",
    "            t_term=np.exp(-vk*vk*ta/s*tk)\n",
    "            resk1[nk_f]=resk1[nk_f]+ck[nk]*t_term*vk*scipy.special.jvp(0,rk*vk)\n",
    "            \n",
    "            vk=jk*1.0*np.pi/lk2\n",
    "            nk=jk-1+60\n",
    "            rk1=rk-100.0\n",
    "            t_term=np.exp(-vk*vk*ta/s*tk)\n",
    "            resk1[nk_f]=resk1[nk_f]-ck[nk]*t_term*vk*scipy.special.jvp(0,rk1*vk)\n",
    "        nk_f=nk_f+1\n",
    "            \n",
    "    print (sum(resk1*resk1))\n",
    "    return ck,rcoe,ycoe\n",
    "r0=np.zeros(1000)\n",
    "r0[0]=0.1\n",
    "for ik in range(1,1000):\n",
    "    r0[ik]=ik*1.0\n",
    "r=np.zeros(2)\n",
    "r[0]=10000.0; r[1]=10000.0\n",
    "t=np.zeros(100)\n",
    "for ik in range(100):\n",
    "    t[ik]=(ik+1)*0.1\n",
    "lk1=1000.0; lk2=10000.0\n",
    "[ck,rcoe,ycoe]=fun_der1(lk1,lk2,r,1.0,1.0,0.01,t,r0)"
   ]
  },
  {
   "cell_type": "code",
   "execution_count": 2,
   "id": "eb4a15a6",
   "metadata": {
    "tags": []
   },
   "outputs": [
    {
     "data": {
      "text/plain": [
       "[<matplotlib.lines.Line2D at 0x7f1fb034e830>]"
      ]
     },
     "execution_count": 2,
     "metadata": {},
     "output_type": "execute_result"
    },
    {
     "data": {
      "image/png": "[encoded data removed]",
      "text/plain": [
       "<Figure size 640x480 with 1 Axes>"
      ]
     },
     "metadata": {},
     "output_type": "display_data"
    }
   ],
   "source": [
    "t=np.zeros(100)\n",
    "for ik in range(100):\n",
    "    t[ik]=(ik+1)*0.1\n",
    "s=np.zeros(100)\n",
    "for ik in range(100):\n",
    "    u=5.0*5.0*0.01/4.0/1.0/t[ik]\n",
    "    w=-0.5772-np.log(u)\n",
    "    for jk in range(1,100):\n",
    "        w=w-((-1.0)**(jk))*(u**jk)/(jk*1.0)/np.math.factorial(jk)\n",
    "    s[ik]=1.0/4.0/np.pi/1.0*w\n",
    "plt.plot(t,s,'k-')\n",
    "s1=np.zeros(100)\n",
    "ta=1.0; ss=0.01\n",
    "r0=np.zeros(1000)\n",
    "r0[0]=0.1\n",
    "for ik in range(1,1000):\n",
    "    r0[ik]=ik*1.0\n",
    "for ik in range(100):\n",
    "    rkk=5.0; tk=t[ik]\n",
    "    for jk in range(1,61):\n",
    "        vk=jk*1.0*np.pi/lk1\n",
    "        nk=jk-1\n",
    "        t_term=np.exp(-vk*vk*ta/ss*tk)\n",
    "        s1[ik]=s1[ik]+ck[nk]*t_term*scipy.special.jv(0,rkk*vk)\n",
    "    s1[ik]=s1[ik]+1.0/2.0/np.pi/1.0*np.log(5.0)\n",
    "            \n",
    "plt.plot(t,52.0-s1,'r--')"
   ]
  },
  {
   "cell_type": "code",
   "execution_count": 226,
   "id": "40a26b8c",
   "metadata": {},
   "outputs": [
    {
     "data": {
      "text/plain": [
       "[<matplotlib.lines.Line2D at 0x236a0fec610>]"
      ]
     },
     "execution_count": 226,
     "metadata": {},
     "output_type": "execute_result"
    },
    {
     "data": {
      "image/png": "[encoded data removed]",
      "text/plain": [
       "<Figure size 432x288 with 1 Axes>"
      ]
     },
     "metadata": {
      "needs_background": "light"
     },
     "output_type": "display_data"
    }
   ],
   "source": [
    "x=np.zeros(1000)\n",
    "for ik in range(1000):\n",
    "    x[ik]=ik*0.1\n",
    "plt.plot(x,scipy.special.yv(0,x),'k-')\n",
    "plt.plot(x,scipy.special.jv(0,x),'r-')"
   ]
  },
  {
   "cell_type": "code",
   "execution_count": 295,
   "id": "8b9f9013",
   "metadata": {},
   "outputs": [
    {
     "name": "stdout",
     "output_type": "stream",
     "text": [
      "0.7431949425053015\n"
     ]
    }
   ],
   "source": [
    "#forward calculation for pumping (2D)\n",
    "from scipy.optimize import least_squares\n",
    "import numpy as np\n",
    "import scipy\n",
    "from scipy import special\n",
    "from numpy.polynomial.hermite import hermfit,hermval\n",
    "from numpy.polynomial.polynomial import polyfit \n",
    "import matplotlib.pyplot as plt\n",
    "import math\n",
    "from scipy.signal import savgol_filter\n",
    "from scipy.optimize import differential_evolution\n",
    "from scipy.optimize import minimize\n",
    "\n",
    "def fun_der(lk,r,q,ta,s,t,r0):\n",
    "    t_len=len(t); r_len=len(r); ini_len=len(r0)\n",
    "    rcoe=np.zeros((ini_len+t_len*r_len,200*2))\n",
    "    ycoe=np.zeros(ini_len+t_len*r_len)\n",
    "# Initial Condition\n",
    "    for ik in range(ini_len):\n",
    "        rk=r0[ik]\n",
    "        for jk in range(1,201):\n",
    "            vk=jk*1.0*np.pi/lk\n",
    "            nk=(jk-1)*2\n",
    "    #        rcoe[ik,nk+0]=scipy.special.jv(0,rk*vk)\n",
    "            rcoe[ik,nk+1]=scipy.special.yv(0,rk*vk)\n",
    "        ycoe[ik]=52.0\n",
    "# Boundary Condition\n",
    "    nk_f=ini_len\n",
    "    for ik in range(t_len):\n",
    "        tk=t[ik]\n",
    "        rk=r[0]\n",
    "        for jk in range(1,201):\n",
    "            vk=jk*1.0*np.pi/lk\n",
    "            nk=(jk-1)*2\n",
    "            t_term=np.exp(-vk*vk*ta/s*tk)\n",
    "    #        rcoe[nk_f,nk+0]=t_term*scipy.special.jvp(0,rk*vk)*vk\n",
    "            rcoe[nk_f,nk+1]=t_term*scipy.special.yvp(0,rk*vk)*vk\n",
    "        ycoe[nk_f]=+q/2.0/np.pi/rk/1.0\n",
    "        nk_f=nk_f+1\n",
    "        \n",
    "        rk=r[1]\n",
    "        for jk in range(1,201):\n",
    "            vk=jk*1.0*np.pi/lk\n",
    "            nk=(jk-1)*2\n",
    "            t_term=np.exp(-vk*vk*ta/s*tk)\n",
    "   #         rcoe[nk_f,nk+0]=t_term*scipy.special.jv(0,rk*vk)\n",
    "            rcoe[nk_f,nk+1]=t_term*scipy.special.yv(0,rk*vk)\n",
    "        ycoe[nk_f]=52.0\n",
    "        nk_f=nk_f+1\n",
    "        \n",
    "    ck=np.linalg.lstsq(rcoe,ycoe,rcond=None)[0]\n",
    "    \n",
    "# Calculate the residual\n",
    "    resk1=np.zeros(ini_len+t_len*r_len)\n",
    "# Initial Condition\n",
    "    for ik in range(ini_len):\n",
    "        rk=r0[ik]\n",
    "        for jk in range(1,201):\n",
    "            vk=jk*1.0*np.pi/lk\n",
    "            nk=(jk-1)*2\n",
    "  #          resk1[ik]=resk1[ik]+ck[nk+0]*scipy.special.jv(0,rk*vk)\n",
    "            resk1[ik]=resk1[ik]+ck[nk+1]*scipy.special.yv(0,rk*vk)\n",
    "        resk1[ik]=resk1[ik]-52.0\n",
    "# Boundary Condition\n",
    "    nk_f=ini_len\n",
    "    for ik in range(t_len):\n",
    "        tk=t[ik]\n",
    "        rk=r[0]\n",
    "        for jk in range(1,201):\n",
    "            vk=jk*1.0*np.pi/lk\n",
    "            nk=(jk-1)*2\n",
    "            t_term=np.exp(-vk*vk*ta/s*tk)\n",
    "    #        resk1[nk_f]=resk1[nk_f]+ck[nk+0]*t_term*scipy.special.jvp(0,rk*vk)*vk\n",
    "            resk1[nk_f]=resk1[nk_f]+ck[nk+1]*t_term*scipy.special.yvp(0,rk*vk)*vk\n",
    "        resk1[nk_f]=resk1[nk_f]-q/2.0/np.pi/rk/1.0\n",
    "        nk_f=nk_f+1\n",
    "        \n",
    "        rk=r[1]\n",
    "        for jk in range(1,201):\n",
    "            vk=jk*1.0*np.pi/lk\n",
    "            nk=(jk-1)*2\n",
    "            t_term=np.exp(-vk*vk*ta/s*tk)\n",
    "    #        resk1[nk_f]=resk1[nk_f]+ck[nk+0]*t_term*scipy.special.jv(0,rk*vk)\n",
    "            resk1[nk_f]=resk1[nk_f]+ck[nk+1]*t_term*scipy.special.yv(0,rk*vk)\n",
    "        resk1[nk_f]=resk1[nk_f]-52.0\n",
    "        nk_f=nk_f+1\n",
    "    print (sum(resk1*resk1))\n",
    "    return ck,rcoe,ycoe\n",
    "r0=np.zeros(1000)\n",
    "r0[0]=0.15\n",
    "for ik in range(1,1000):\n",
    "    r0[ik]=ik*1.0\n",
    "r=np.zeros(2)\n",
    "r[0]=0.1; r[1]=1000.0\n",
    "t=np.zeros(100)\n",
    "for ik in range(100):\n",
    "    t[ik]=(ik+1)*0.1\n",
    "lk=10000.0\n",
    "[ck,rcoe,ycoe]=fun_der(lk,r,1.0,1.0,0.01,t,r0)"
   ]
  },
  {
   "cell_type": "code",
   "execution_count": 296,
   "id": "8389d9f4",
   "metadata": {},
   "outputs": [
    {
     "data": {
      "text/plain": [
       "[<matplotlib.lines.Line2D at 0x236a3503070>]"
      ]
     },
     "execution_count": 296,
     "metadata": {},
     "output_type": "execute_result"
    },
    {
     "data": {
      "image/png": "[encoded data removed]",
      "text/plain": [
       "<Figure size 432x288 with 1 Axes>"
      ]
     },
     "metadata": {
      "needs_background": "light"
     },
     "output_type": "display_data"
    }
   ],
   "source": [
    "t=np.zeros(100)\n",
    "for ik in range(100):\n",
    "    t[ik]=(ik+1)*0.1\n",
    "s=np.zeros(100)\n",
    "for ik in range(100):\n",
    "    u=5.0*5.0*0.01/4.0/1.0/t[ik]\n",
    "    w=-0.5772-np.log(u)\n",
    "    for jk in range(1,100):\n",
    "        w=w-((-1.0)**(jk))*(u**jk)/(jk*1.0)/np.math.factorial(jk)\n",
    "    s[ik]=1.0/4.0/np.pi/1.0*w\n",
    "plt.plot(t,s,'k-')\n",
    "s1=np.zeros(100)\n",
    "ta=1.0; ss=0.01\n",
    "r0=np.zeros(1000)\n",
    "r0[0]=0.1\n",
    "for ik in range(1,1000):\n",
    "    r0[ik]=ik*1.0\n",
    "for ik in range(100):\n",
    "    rkk=5.0; tk=t[ik]\n",
    "    for jk in range(1,201):\n",
    "        vk=jk*1.0*np.pi/lk1\n",
    "        nk=(jk-1)*2\n",
    "        t_term=np.exp(-vk*vk*ta/ss*tk)\n",
    "    #    s1[ik]=s1[ik]+ck[nk+0]*t_term*scipy.special.jv(0,rkk*vk)\n",
    "        s1[ik]=s1[ik]+ck[nk+1]*t_term*scipy.special.yv(0,rkk*vk)\n",
    "    s1[ik]=s1[ik]\n",
    "            \n",
    "plt.plot(t,52.0-s1,'r--')"
   ]
  },
  {
   "cell_type": "code",
   "execution_count": 294,
   "id": "0694c1d4",
   "metadata": {},
   "outputs": [
    {
     "name": "stdout",
     "output_type": "stream",
     "text": [
      "0.4100036450465758\n"
     ]
    }
   ],
   "source": [
    "print(scipy.special.yv(0,rkk*vk))"
   ]
  },
  {
   "cell_type": "code",
   "execution_count": null,
   "id": "63e3d86c",
   "metadata": {},
   "outputs": [],
   "source": []
  }
 ],
 "metadata": {
  "kernelspec": {
   "display_name": "Python 3 (ipykernel)",
   "language": "python",
   "name": "python3"
  },
  "language_info": {
   "codemirror_mode": {
    "name": "ipython",
    "version": 3
   },
   "file_extension": ".py",
   "mimetype": "text/x-python",
   "name": "python",
   "nbconvert_exporter": "python",
   "pygments_lexer": "ipython3",
   "version": "3.10.7"
  }
 },
 "nbformat": 4,
 "nbformat_minor": 5
}
