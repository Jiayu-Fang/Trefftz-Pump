{
 "cells": [
  {
   "cell_type": "code",
   "execution_count": 3,
   "id": "9c7581d6-934c-4d93-99ba-e74b45b872f5",
   "metadata": {
    "tags": []
   },
   "outputs": [
    {
     "name": "stdout",
     "output_type": "stream",
     "text": [
      "0.14889852759551947\n"
     ]
    }
   ],
   "source": [
    "#forward calculation for pumping (2D)\n",
    "from scipy.optimize import least_squares\n",
    "import numpy as np\n",
    "import scipy\n",
    "from scipy import special\n",
    "from numpy.polynomial.hermite import hermfit,hermval\n",
    "from numpy.polynomial.polynomial import polyfit \n",
    "import matplotlib.pyplot as plt\n",
    "import math\n",
    "from scipy.signal import savgol_filter\n",
    "from scipy.optimize import differential_evolution\n",
    "from scipy.optimize import minimize\n",
    "\n",
    "def fun_der(lk,r,q,ta,s,t,r0):\n",
    "    t_len=len(t); r_len=len(r); ini_len=len(r0)\n",
    "    rcoe=np.zeros((ini_len+t_len*r_len,400*2))\n",
    "    ycoe=np.zeros(ini_len+t_len*r_len)\n",
    "# Initial Condition\n",
    "    for ik in range(ini_len):\n",
    "        rk=r0[ik]\n",
    "        for jk in range(1,401):\n",
    "            vk=jk*1.0*np.pi/lk\n",
    "            nk=(jk-1)*2\n",
    "            rcoe[ik,nk+0]=scipy.special.jv(0,rk*vk)\n",
    "            rcoe[ik,nk+1]=scipy.special.yv(0,rk*vk)\n",
    "        ycoe[ik]=52.0\n",
    "# Boundary Condition\n",
    "    nk_f=ini_len\n",
    "    for ik in range(t_len):\n",
    "        tk=t[ik]\n",
    "        rk=r[0]\n",
    "        for jk in range(1,401):\n",
    "            vk=jk*1.0*np.pi/lk\n",
    "            nk=(jk-1)*2\n",
    "            t_term=np.exp(-vk*vk*ta/s*tk)\n",
    "            rcoe[nk_f,nk+0]=t_term*scipy.special.jvp(0,rk*vk)*vk\n",
    "            rcoe[nk_f,nk+1]=t_term*scipy.special.yvp(0,rk*vk)*vk\n",
    "        ycoe[nk_f]=+q/2.0/np.pi/rk/1.0\n",
    "        nk_f=nk_f+1\n",
    "        \n",
    "        rk=r[1]\n",
    "        for jk in range(1,401):\n",
    "            vk=jk*1.0*np.pi/lk\n",
    "            nk=(jk-1)*2\n",
    "            t_term=np.exp(-vk*vk*ta/s*tk)\n",
    "            rcoe[nk_f,nk+0]=t_term*scipy.special.jv(0,rk*vk)\n",
    "            rcoe[nk_f,nk+1]=t_term*scipy.special.yv(0,rk*vk)\n",
    "        ycoe[nk_f]=52.0\n",
    "        nk_f=nk_f+1\n",
    "        \n",
    "    ck=np.linalg.lstsq(rcoe,ycoe,rcond=None)[0]\n",
    "    \n",
    "# Calculate the residual\n",
    "    resk1=np.zeros(ini_len+t_len*r_len)\n",
    "# Initial Condition\n",
    "    for ik in range(ini_len):\n",
    "        rk=r0[ik]\n",
    "        for jk in range(1,401):\n",
    "            vk=jk*1.0*np.pi/lk\n",
    "            nk=(jk-1)*2\n",
    "            resk1[ik]=resk1[ik]+ck[nk+0]*scipy.special.jv(0,rk*vk)\n",
    "            resk1[ik]=resk1[ik]+ck[nk+1]*scipy.special.yv(0,rk*vk)\n",
    "        resk1[ik]=resk1[ik]-52.0\n",
    "# Boundary Condition\n",
    "    nk_f=ini_len\n",
    "    for ik in range(t_len):\n",
    "        tk=t[ik]\n",
    "        rk=r[0]\n",
    "        for jk in range(1,401):\n",
    "            vk=jk*1.0*np.pi/lk\n",
    "            nk=(jk-1)*2\n",
    "            t_term=np.exp(-vk*vk*ta/s*tk)\n",
    "            resk1[nk_f]=resk1[nk_f]+ck[nk+0]*t_term*scipy.special.jvp(0,rk*vk)*vk\n",
    "            resk1[nk_f]=resk1[nk_f]+ck[nk+1]*t_term*scipy.special.yvp(0,rk*vk)*vk\n",
    "        resk1[nk_f]=resk1[nk_f]-q/2.0/np.pi/rk/1.0\n",
    "        nk_f=nk_f+1\n",
    "        \n",
    "        rk=r[1]\n",
    "        for jk in range(1,401):\n",
    "            vk=jk*1.0*np.pi/lk\n",
    "            nk=(jk-1)*2\n",
    "            t_term=np.exp(-vk*vk*ta/s*tk)\n",
    "            resk1[nk_f]=resk1[nk_f]+ck[nk+0]*t_term*scipy.special.jv(0,rk*vk)\n",
    "            resk1[nk_f]=resk1[nk_f]+ck[nk+1]*t_term*scipy.special.yv(0,rk*vk)\n",
    "        resk1[nk_f]=resk1[nk_f]-52.0\n",
    "        nk_f=nk_f+1\n",
    "    print (sum(resk1*resk1))\n",
    "    return ck,rcoe,ycoe\n",
    "r0=np.zeros(1000)\n",
    "r0[0]=0.15\n",
    "for ik in range(1,1000):\n",
    "    r0[ik]=ik*1.0\n",
    "r=np.zeros(2)\n",
    "r[0]=0.1; r[1]=1000.0\n",
    "t=np.zeros(100)\n",
    "for ik in range(100):\n",
    "    t[ik]=(ik+1)*0.1\n",
    "lk=10000.0\n",
    "[ck,rcoe,ycoe]=fun_der(lk,r,1.0,1.0,0.01,t,r0)"
   ]
  },
  {
   "cell_type": "code",
   "execution_count": 6,
   "id": "ba22cdba-b87e-4684-8643-e72897ec266d",
   "metadata": {
    "tags": []
   },
   "outputs": [
    {
     "data": {
      "text/plain": [
       "[<matplotlib.lines.Line2D at 0x7fb28e1540a0>]"
      ]
     },
     "execution_count": 6,
     "metadata": {},
     "output_type": "execute_result"
    },
    {
     "data": {
      "image/png": "[encoded data removed]",
      "text/plain": [
       "<Figure size 640x480 with 1 Axes>"
      ]
     },
     "metadata": {},
     "output_type": "display_data"
    }
   ],
   "source": [
    "t=np.zeros(100)\n",
    "for ik in range(100):\n",
    "    t[ik]=(ik+1)*0.1\n",
    "s=np.zeros(100)\n",
    "for ik in range(100):\n",
    "    u=15.0*15.0*0.01/4.0/1.0/t[ik]\n",
    "    w=-0.5772-np.log(u)\n",
    "    for jk in range(1,100):\n",
    "        w=w-((-1.0)**(jk))*(u**jk)/(jk*1.0)/np.math.factorial(jk)\n",
    "    s[ik]=1.0/4.0/np.pi/1.0*w\n",
    "plt.plot(t,s,'k-')\n",
    "s1=np.zeros(100)\n",
    "ta=1.0; ss=0.01\n",
    "r0=np.zeros(1000)\n",
    "r0[0]=0.1\n",
    "for ik in range(1,1000):\n",
    "    r0[ik]=ik*1.0\n",
    "for ik in range(100):\n",
    "    rkk=50.0; tk=t[ik]\n",
    "    for jk in range(1,401):\n",
    "        vk=jk*1.0*np.pi/lk\n",
    "        nk=(jk-1)*2\n",
    "        t_term=np.exp(-vk*vk*ta/ss*tk)\n",
    "        s1[ik]=s1[ik]+ck[nk+0]*t_term*scipy.special.jv(0,rkk*vk)\n",
    "        s1[ik]=s1[ik]+ck[nk+1]*t_term*scipy.special.yv(0,rkk*vk)\n",
    "    s1[ik]=s1[ik]\n",
    "            \n",
    "plt.plot(t,52.0-s1,'r--')"
   ]
  },
  {
   "cell_type": "code",
   "execution_count": null,
   "id": "eb15f693-cac3-4b39-91e4-359df0c6153e",
   "metadata": {},
   "outputs": [],
   "source": []
  }
 ],
 "metadata": {
  "kernelspec": {
   "display_name": "Python 3 (ipykernel)",
   "language": "python",
   "name": "python3"
  },
  "language_info": {
   "codemirror_mode": {
    "name": "ipython",
    "version": 3
   },
   "file_extension": ".py",
   "mimetype": "text/x-python",
   "name": "python",
   "nbconvert_exporter": "python",
   "pygments_lexer": "ipython3",
   "version": "3.10.7"
  }
 },
 "nbformat": 4,
 "nbformat_minor": 5
}
